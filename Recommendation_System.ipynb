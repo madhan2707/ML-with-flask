{
  "nbformat": 4,
  "nbformat_minor": 0,
  "metadata": {
    "colab": {
      "provenance": [],
      "authorship_tag": "ABX9TyPI4iipibYksJLqzGw3VexY",
      "include_colab_link": true
    },
    "kernelspec": {
      "name": "python3",
      "display_name": "Python 3"
    },
    "language_info": {
      "name": "python"
    }
  },
  "cells": [
    {
      "cell_type": "markdown",
      "metadata": {
        "id": "view-in-github",
        "colab_type": "text"
      },
      "source": [
        "<a href=\"https://colab.research.google.com/github/madhan2707/ML-with-flask/blob/main/Recommendation_System.ipynb\" target=\"_parent\"><img src=\"https://colab.research.google.com/assets/colab-badge.svg\" alt=\"Open In Colab\"/></a>"
      ]
    },
    {
      "cell_type": "code",
      "execution_count": null,
      "metadata": {
        "id": "-TZgVo12gEYJ"
      },
      "outputs": [],
      "source": []
    },
    {
      "cell_type": "markdown",
      "source": [
        "Example for cosine similarity:\n",
        "Zepto recommendations accourding to the timeline and our previous search and buying data."
      ],
      "metadata": {
        "id": "0C2400rmnfnQ"
      }
    },
    {
      "cell_type": "markdown",
      "source": [
        "Example for correlation similarity:\n",
        "The relationship between study time and exam grades; as the amount of time a student studies increases, their exam grades tend to increase as well, demonstrating a positive correlation."
      ],
      "metadata": {
        "id": "hPE51SYfn8cb"
      }
    },
    {
      "cell_type": "markdown",
      "source": [
        "User-Based Colabarative Filtering:\n",
        "\n",
        "• Finds users with similar\n",
        "  preferences and recommends items liked by those users.\n",
        "  \n",
        "• Example: If RAJU have similar  \n",
        "  movie preferences, RAJU's favorite movie might be recommended to Ramu.\n",
        "\n",
        "  ii) Item-Based Collaborative\n",
        "  Filtering\n",
        "• Finds similar items based on  \n",
        "  users' interaction history.\n",
        "\n",
        "• Example: If many users who watched\n",
        "  \"\" also watched \"Blade Runner\", then \"Blade Runner\" is recommended to users who watched \"The Matrix\"."
      ],
      "metadata": {
        "id": "ag8Yw5DzpKkg"
      }
    },
    {
      "cell_type": "code",
      "source": [],
      "metadata": {
        "id": "bpBmyxdMofgs"
      },
      "execution_count": null,
      "outputs": []
    }
  ]
}