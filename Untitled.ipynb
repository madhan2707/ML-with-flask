{
 "cells": [
  {
   "cell_type": "code",
   "execution_count": 1,
   "id": "29269c93",
   "metadata": {},
   "outputs": [
    {
     "name": "stdout",
     "output_type": "stream",
     "text": [
      "Integer variable: 42, Type: <class 'int'>\n",
      "Float variable: 3.14159, Type: <class 'float'>\n",
      "String variable: Hello, World!, Type: <class 'str'>\n",
      "Boolean variable: True, Type: <class 'bool'>\n"
     ]
    }
   ],
   "source": [
    "integer_var = 42\n",
    "float_var = 3.14159\n",
    "string_var = \"Hello, World!\"\n",
    "boolean_var = True\n",
    "\n",
    "print(f\"Integer variable: {integer_var}, Type: {type(integer_var)}\")\n",
    "print(f\"Float variable: {float_var}, Type: {type(float_var)}\")\n",
    "print(f\"String variable: {string_var}, Type: {type(string_var)}\")\n",
    "print(f\"Boolean variable: {boolean_var}, Type: {type(boolean_var)}\")"
   ]
  },
  {
   "cell_type": "code",
   "execution_count": null,
   "id": "9619427d",
   "metadata": {},
   "outputs": [],
   "source": []
  }
 ],
 "metadata": {
  "kernelspec": {
   "display_name": "Python 3 (ipykernel)",
   "language": "python",
   "name": "python3"
  },
  "language_info": {
   "codemirror_mode": {
    "name": "ipython",
    "version": 3
   },
   "file_extension": ".py",
   "mimetype": "text/x-python",
   "name": "python",
   "nbconvert_exporter": "python",
   "pygments_lexer": "ipython3",
   "version": "3.11.5"
  }
 },
 "nbformat": 4,
 "nbformat_minor": 5
}
